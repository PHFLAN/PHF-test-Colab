{
  "nbformat": 4,
  "nbformat_minor": 0,
  "metadata": {
    "colab": {
      "provenance": [],
      "authorship_tag": "ABX9TyOLmTPaFPlA0B/vtVuFYUA6",
      "include_colab_link": true
    },
    "kernelspec": {
      "name": "python3",
      "display_name": "Python 3"
    },
    "language_info": {
      "name": "python"
    }
  },
  "cells": [
    {
      "cell_type": "markdown",
      "metadata": {
        "id": "view-in-github",
        "colab_type": "text"
      },
      "source": [
        "<a href=\"https://colab.research.google.com/github/PHFLAN/PHF-test-Colab/blob/main/PHF-test.ipynb\" target=\"_parent\"><img src=\"https://colab.research.google.com/assets/colab-badge.svg\" alt=\"Open In Colab\"/></a>"
      ]
    },
    {
      "cell_type": "code",
      "source": [
        "num1 = input(\"Enter the first number \")\n",
        "num2 = input(\"Enter the second number \")\n",
        "def multiply(num1, num2):\n",
        "    \"\"\" Multiply two numbers and return the result.\"\"\"\n",
        "result = int(num1) * int(num2)\n",
        "print(\"Your numbers were\", num1, \" and \",num2)\n",
        "print (\"That calculation comes to \", result)\n"
      ],
      "metadata": {
        "id": "_1TiQ0OTuENn",
        "outputId": "08632355-8130-41fd-c301-d50166da22b8",
        "colab": {
          "base_uri": "https://localhost:8080/"
        }
      },
      "execution_count": 3,
      "outputs": [
        {
          "output_type": "stream",
          "name": "stdout",
          "text": [
            "Enter the first number 12\n",
            "Enter the second number 12\n",
            "Your numbers were 12  and  12\n",
            "That calculation comes to  144\n"
          ]
        }
      ]
    },
    {
      "cell_type": "code",
      "source": [
        "a = 12\n",
        "b = 96\n",
        "c = 48\n",
        "d = 17\n",
        "e = 196523\n",
        "f = 87323\n",
        "\n",
        "x = (a,b,c,d,e,f)\n",
        "print()\n",
        "print(int(a) * int(b))\n",
        "print()\n",
        "print(int(c) * int(d))\n",
        "print()\n",
        "print(int(e) * int(f))\n",
        "print()\n",
        "\n",
        "\n"
      ],
      "metadata": {
        "id": "9G_7f5uQuj35",
        "outputId": "27e98d04-1c65-41e2-a8b8-db7763103306",
        "colab": {
          "base_uri": "https://localhost:8080/"
        }
      },
      "execution_count": 5,
      "outputs": [
        {
          "output_type": "stream",
          "name": "stdout",
          "text": [
            "\n",
            "1152\n",
            "\n",
            "816\n",
            "\n",
            "17160977929\n",
            "\n"
          ]
        }
      ]
    },
    {
      "cell_type": "code",
      "source": [
        "x = (a,b,c,d,e,f)\n",
        "print()\n",
        "print(\"12 x 96 =\", int(a) * int(b))\n",
        "print()\n",
        "print(\"48 x 17 =\", int(c) * int(d))\n",
        "print()\n",
        "print(\"196523 x 87323 =\", int(e) * int(f))\n",
        "print(a * b * c * d * e * f / 1000000)\n"
      ],
      "metadata": {
        "id": "lL0NEpZxuwNo",
        "outputId": "9e26bc02-10e4-48bd-efa9-be5de2f76d57",
        "colab": {
          "base_uri": "https://localhost:8080/"
        }
      },
      "execution_count": 9,
      "outputs": [
        {
          "output_type": "stream",
          "name": "stdout",
          "text": [
            "\n",
            "12 x 96 = 1152\n",
            "\n",
            "48 x 17 = 816\n",
            "\n",
            "196523 x 87323 = 17160977929\n",
            "16131868404.553728\n"
          ]
        }
      ]
    },
    {
      "cell_type": "code",
      "source": [
        "a = 12\n",
        "b = 96\n",
        "c = 48\n",
        "d = 17\n",
        "e = 196523\n",
        "f = 87323\n",
        "\n",
        "\n",
        "n = 1\n",
        "while n < 6:\n",
        "#\n",
        " num1 = input(\"Enter the first number \")\n",
        " num2 = input(\"Enter the second number \")\n",
        " print (num1,\"x\",num2,\"=\", (int(num1) * int(num2)))\n",
        " # print(\"Number 1\",(num1),\"x Number 2\",(num2),\"Equals\", (int(num1) * int(num2)))\n",
        " print()\n",
        " print()\n",
        " n = n+1\n",
        " print(\"You have \",(6-n), \"goes left.\")\n",
        " if (6-n) == 1:\n",
        "  print(\"This is your very last go, enjoy...\")\n",
        "  print()\n",
        "  print()\n",
        "\n",
        "if (6-n) == 0:  \n",
        " print(\"All of your goes are finished, now sod off!\")\n",
        " print(\"Completed, now go away\")\n",
        " 6"
      ],
      "metadata": {
        "id": "OVNiXwJ5vS0R",
        "outputId": "adbc92db-b314-4d63-e29a-57cc6098b1d0",
        "colab": {
          "base_uri": "https://localhost:8080/"
        }
      },
      "execution_count": 12,
      "outputs": [
        {
          "output_type": "stream",
          "name": "stdout",
          "text": [
            "Enter the first number 12\n",
            "Enter the second number 7\n",
            "12 x 7 = 84\n",
            "\n",
            "\n",
            "You have  4 goes left.\n",
            "Enter the first number 85\n",
            "Enter the second number 6\n",
            "85 x 6 = 510\n",
            "\n",
            "\n",
            "You have  3 goes left.\n",
            "Enter the first number 5\n",
            "Enter the second number 6\n",
            "5 x 6 = 30\n",
            "\n",
            "\n",
            "You have  2 goes left.\n",
            "Enter the first number 879\n",
            "Enter the second number 88\n",
            "879 x 88 = 77352\n",
            "\n",
            "\n",
            "You have  1 goes left.\n",
            "This is your very last go, enjoy...\n",
            "\n",
            "\n",
            "Enter the first number 4\n",
            "Enter the second number 55\n",
            "4 x 55 = 220\n",
            "\n",
            "\n",
            "You have  0 goes left.\n",
            "All of your goes are finished, now sod off!\n",
            "Completed, now go away\n"
          ]
        }
      ]
    },
    {
      "cell_type": "code",
      "source": [
        "import random\n",
        "# Make this run 5 times\n",
        "sum = 0\n",
        "for i in range(5):\n",
        " pfrand = random.randint(1, 10)\n",
        " print(\"   \",pfrand)\n",
        " sum +=pfrand\n",
        " if pfrand > 5:\n",
        "     print(pfrand,\"Is Greater than 5\")\n",
        " else:\n",
        "     print(pfrand,\"Is Less than 5, you Muppet\")\n",
        "\n",
        "print(\"Total sum of these random numbers is\",sum)\n",
        "print(\"The average of these random numbers is\",(sum/5))\n"
      ],
      "metadata": {
        "id": "ZcESM_7bv53o",
        "outputId": "2b865983-eb53-4027-c594-f80d8500130a",
        "colab": {
          "base_uri": "https://localhost:8080/"
        }
      },
      "execution_count": 15,
      "outputs": [
        {
          "output_type": "stream",
          "name": "stdout",
          "text": [
            "    10\n",
            "10 Is Greater than 5\n",
            "    5\n",
            "5 Is Less than 5, you Muppet\n",
            "    5\n",
            "5 Is Less than 5, you Muppet\n",
            "    4\n",
            "4 Is Less than 5, you Muppet\n",
            "    1\n",
            "1 Is Less than 5, you Muppet\n",
            "Total sum of these random numbers is 25\n",
            "The average of these random numbers is 5.0\n"
          ]
        }
      ]
    },
    {
      "cell_type": "code",
      "source": [
        "import random\n",
        "# Make this run 5 times\n",
        "sum = 0\n",
        "for i in range(5):\n",
        "  pfrand = random.randint(1, 10)\n",
        "  print(\"The random number is - - -   \",pfrand)\n",
        "  sum +=pfrand\n",
        " #\n",
        "  if pfrand > 5:\n",
        "   print(pfrand,\"YAY - It's Greater than 5\")\n",
        "  else:\n",
        "    print(pfrand,\"Is Less than 5, you Muppet\") \n",
        "    print(\"Average is lower than 5\") \n",
        "print(\"Total sum of these random numbers is\",sum)\n",
        "print(\"The average of these random numbers is\",(sum/5))\n"
      ],
      "metadata": {
        "id": "ZshwiX2hwMzA",
        "outputId": "a55a26c0-85cd-45a9-fa9f-96dfb85e334f",
        "colab": {
          "base_uri": "https://localhost:8080/"
        }
      },
      "execution_count": 19,
      "outputs": [
        {
          "output_type": "stream",
          "name": "stdout",
          "text": [
            "The random number is - - -    10\n",
            "10 YAY - It's Greater than 5\n",
            "The random number is - - -    4\n",
            "4 Is Less than 5, you Muppet\n",
            "Average is lower than 5\n",
            "The random number is - - -    3\n",
            "3 Is Less than 5, you Muppet\n",
            "Average is lower than 5\n",
            "The random number is - - -    3\n",
            "3 Is Less than 5, you Muppet\n",
            "Average is lower than 5\n",
            "The random number is - - -    6\n",
            "6 YAY - It's Greater than 5\n",
            "Total sum of these random numbers is 26\n",
            "The average of these random numbers is 5.2\n"
          ]
        }
      ]
    },
    {
      "cell_type": "code",
      "source": [
        "import random\n",
        "# Make this run 5 times\n",
        "sum = 0\n",
        "for i in range(5):\n",
        "  print()\n",
        "  print(i+1)\n",
        "  pfrand = random.randint(1, 10)\n",
        "  print()\n",
        "  print(\"The random number is - - -   \",pfrand)\n",
        "  sum +=pfrand\n",
        " #\n",
        "  if pfrand > 5:\n",
        "   print(pfrand,\"YAY - It's Greater than 5\")\n",
        "  elif pfrand == 5:\n",
        "    print(pfrand,\"Holy Cow - You scored a Magic number 5\")\n",
        "  else:\n",
        "     print(pfrand,\"Is Less than 5, you Muppet\") \n",
        "  #  print((sum/5),\"Average is lower than 5\")\n",
        "\n",
        "\n",
        "  if (sum/5) > 5:\n",
        "   print((sum/5),\"DAMN - Average is Greater than 5 - you broke it\")\n",
        "   print(\"No more goes for you!\") \n",
        "\n",
        "   quit()\n",
        "  else:\n",
        "    print(\"Average\", (sum/5), \"is lower than 5\")\n",
        "print() \n",
        "print(\"Total sum of these random numbers is\",sum)\n",
        "print(\"The average of these random numbers is\",(sum/5))\n"
      ],
      "metadata": {
        "id": "GYPTPKa1wer5",
        "outputId": "c622d07a-0dd1-4d83-eb74-5f8e39acc8e8",
        "colab": {
          "base_uri": "https://localhost:8080/"
        }
      },
      "execution_count": 1,
      "outputs": [
        {
          "output_type": "stream",
          "name": "stdout",
          "text": [
            "\n",
            "1\n",
            "\n",
            "The random number is - - -    2\n",
            "2 Is Less than 5, you Muppet\n",
            "Average 0.4 is lower than 5\n",
            "\n",
            "2\n",
            "\n",
            "The random number is - - -    7\n",
            "7 YAY - It's Greater than 5\n",
            "Average 1.8 is lower than 5\n",
            "\n",
            "3\n",
            "\n",
            "The random number is - - -    9\n",
            "9 YAY - It's Greater than 5\n",
            "Average 3.6 is lower than 5\n",
            "\n",
            "4\n",
            "\n",
            "The random number is - - -    2\n",
            "2 Is Less than 5, you Muppet\n",
            "Average 4.0 is lower than 5\n",
            "\n",
            "5\n",
            "\n",
            "The random number is - - -    8\n",
            "8 YAY - It's Greater than 5\n",
            "5.6 DAMN - Average is Greater than 5 - you broke it\n",
            "No more goes for you!\n",
            "\n",
            "Total sum of these random numbers is 28\n",
            "The average of these random numbers is 5.6\n"
          ]
        }
      ]
    }
  ]
}