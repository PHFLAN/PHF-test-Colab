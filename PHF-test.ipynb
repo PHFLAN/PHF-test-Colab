{
  "nbformat": 4,
  "nbformat_minor": 0,
  "metadata": {
    "colab": {
      "provenance": [],
      "authorship_tag": "ABX9TyNZ/NRcdBL1+pYu34TFBn9k",
      "include_colab_link": true
    },
    "kernelspec": {
      "name": "python3",
      "display_name": "Python 3"
    },
    "language_info": {
      "name": "python"
    }
  },
  "cells": [
    {
      "cell_type": "markdown",
      "metadata": {
        "id": "view-in-github",
        "colab_type": "text"
      },
      "source": [
        "<a href=\"https://colab.research.google.com/github/PHFLAN/PHF-test-Colab/blob/main/PHF-test.ipynb\" target=\"_parent\"><img src=\"https://colab.research.google.com/assets/colab-badge.svg\" alt=\"Open In Colab\"/></a>"
      ]
    },
    {
      "cell_type": "code",
      "execution_count": 1,
      "metadata": {
        "colab": {
          "base_uri": "https://localhost:8080/"
        },
        "id": "CZ6o-AkPNRT5",
        "outputId": "09baca01-d4e0-4ce7-b2c8-d77fe114a9be"
      },
      "outputs": [
        {
          "output_type": "stream",
          "name": "stdout",
          "text": [
            "Hello Paul\n"
          ]
        }
      ],
      "source": [
        "print (\"Hello Paul\")"
      ]
    },
    {
      "cell_type": "code",
      "source": [
        "print (\"Hello Melanie\")\n"
      ],
      "metadata": {
        "id": "0fDilU27oaNq"
      },
      "execution_count": null,
      "outputs": []
    }
  ]
}