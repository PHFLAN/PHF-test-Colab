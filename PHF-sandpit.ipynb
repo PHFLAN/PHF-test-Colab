{
  "nbformat": 4,
  "nbformat_minor": 0,
  "metadata": {
    "colab": {
      "provenance": [],
      "authorship_tag": "ABX9TyNmsrIAYOBMHOFrcmmP4/oA",
      "include_colab_link": true
    },
    "kernelspec": {
      "name": "python3",
      "display_name": "Python 3"
    },
    "language_info": {
      "name": "python"
    }
  },
  "cells": [
    {
      "cell_type": "markdown",
      "metadata": {
        "id": "view-in-github",
        "colab_type": "text"
      },
      "source": [
        "<a href=\"https://colab.research.google.com/github/PHFLAN/PHF-test-Colab/blob/main/PHF-sandpit.ipynb\" target=\"_parent\"><img src=\"https://colab.research.google.com/assets/colab-badge.svg\" alt=\"Open In Colab\"/></a>"
      ]
    },
    {
      "cell_type": "code",
      "source": [
        "a = 12\n",
        "b = 96\n",
        "c = 48\n",
        "d = 17\n",
        "e = 196523\n",
        "f = 87323\n",
        "\n",
        "\n",
        "n = 1\n",
        "while n < 6:\n",
        "#\n",
        " num1 = input(\"Enter the first number \")\n",
        " num2 = input(\"Enter the second number \")\n",
        " print (num1,\"x\",num2,\"=\", (int(num1) * int(num2)))\n",
        " # print(\"Number 1\",(num1),\"x Number 2\",(num2),\"Equals\", (int(num1) * int(num2)))\n",
        " print()\n",
        " print()\n",
        " n = n+1\n",
        " print(\"You have \",(6-n), \"goes left.\")\n",
        " if (6-n) == 1:\n",
        "  print(\"This is your very last go, enjoy...\")\n",
        "  print()\n",
        "  print()\n",
        "\n",
        "if (6-n) == 0:  \n",
        " print(\"All of your goes are finished, now sod off!\")\n",
        " print(\"Completed, now go away\")\n",
        " 452"
      ],
      "metadata": {
        "id": "wiWf5wk4qeBC",
        "outputId": "1c283f56-45cc-424f-d54d-eabb3a676c8b",
        "colab": {
          "base_uri": "https://localhost:8080/"
        }
      },
      "execution_count": 5,
      "outputs": [
        {
          "output_type": "stream",
          "name": "stdout",
          "text": [
            "Enter the first number 2\n",
            "Enter the second number 5\n",
            "2 x 5 = 10\n",
            "\n",
            "\n",
            "You have  4 goes left.\n",
            "Enter the first number 16\n",
            "Enter the second number 225\n",
            "16 x 225 = 3600\n",
            "\n",
            "\n",
            "You have  3 goes left.\n",
            "Enter the first number 4\n",
            "Enter the second number 78\n",
            "4 x 78 = 312\n",
            "\n",
            "\n",
            "You have  2 goes left.\n",
            "Enter the first number 14\n",
            "Enter the second number 1\n",
            "14 x 1 = 14\n",
            "\n",
            "\n",
            "You have  1 goes left.\n",
            "This is your very last go, enjoy...\n",
            "\n",
            "\n",
            "Enter the first number 4\n",
            "Enter the second number 65\n",
            "4 x 65 = 260\n",
            "\n",
            "\n",
            "You have  0 goes left.\n",
            "All of your goes are finished, now sod off!\n",
            "Completed, now go away\n"
          ]
        }
      ]
    }
  ]
}